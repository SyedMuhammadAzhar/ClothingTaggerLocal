{
 "cells": [
  {
   "cell_type": "code",
   "execution_count": 1,
   "metadata": {},
   "outputs": [
    {
     "name": "stdout",
     "output_type": "stream",
     "text": [
      "Found 24 folders:\n",
      "['green_shirt', 'black_shoes', 'red_dress', 'black_shirt', 'white_dress']\n",
      "Total images: 11385\n"
     ]
    },
    {
     "data": {
      "text/html": [
       "<div>\n",
       "<style scoped>\n",
       "    .dataframe tbody tr th:only-of-type {\n",
       "        vertical-align: middle;\n",
       "    }\n",
       "\n",
       "    .dataframe tbody tr th {\n",
       "        vertical-align: top;\n",
       "    }\n",
       "\n",
       "    .dataframe thead th {\n",
       "        text-align: right;\n",
       "    }\n",
       "</style>\n",
       "<table border=\"1\" class=\"dataframe\">\n",
       "  <thead>\n",
       "    <tr style=\"text-align: right;\">\n",
       "      <th></th>\n",
       "      <th>filepath</th>\n",
       "      <th>raw_label</th>\n",
       "    </tr>\n",
       "  </thead>\n",
       "  <tbody>\n",
       "    <tr>\n",
       "      <th>0</th>\n",
       "      <td>/Users/mac/Documents/TestProjects/catecut-test...</td>\n",
       "      <td>green_shirt</td>\n",
       "    </tr>\n",
       "    <tr>\n",
       "      <th>1</th>\n",
       "      <td>/Users/mac/Documents/TestProjects/catecut-test...</td>\n",
       "      <td>green_shirt</td>\n",
       "    </tr>\n",
       "    <tr>\n",
       "      <th>2</th>\n",
       "      <td>/Users/mac/Documents/TestProjects/catecut-test...</td>\n",
       "      <td>green_shirt</td>\n",
       "    </tr>\n",
       "    <tr>\n",
       "      <th>3</th>\n",
       "      <td>/Users/mac/Documents/TestProjects/catecut-test...</td>\n",
       "      <td>green_shirt</td>\n",
       "    </tr>\n",
       "    <tr>\n",
       "      <th>4</th>\n",
       "      <td>/Users/mac/Documents/TestProjects/catecut-test...</td>\n",
       "      <td>green_shirt</td>\n",
       "    </tr>\n",
       "  </tbody>\n",
       "</table>\n",
       "</div>"
      ],
      "text/plain": [
       "                                            filepath    raw_label\n",
       "0  /Users/mac/Documents/TestProjects/catecut-test...  green_shirt\n",
       "1  /Users/mac/Documents/TestProjects/catecut-test...  green_shirt\n",
       "2  /Users/mac/Documents/TestProjects/catecut-test...  green_shirt\n",
       "3  /Users/mac/Documents/TestProjects/catecut-test...  green_shirt\n",
       "4  /Users/mac/Documents/TestProjects/catecut-test...  green_shirt"
      ]
     },
     "execution_count": 1,
     "metadata": {},
     "output_type": "execute_result"
    }
   ],
   "source": [
    "import os\n",
    "import pandas as pd\n",
    "from pathlib import Path\n",
    "\n",
    "DATA_DIR = Path(\"../data\")\n",
    "\n",
    "# List all subfolders (e.g., black_shirt, blue_dress, etc.)\n",
    "categories = [p.name for p in DATA_DIR.iterdir() if p.is_dir()]\n",
    "print(f\"Found {len(categories)} folders:\")\n",
    "print(categories[:5])  # print a few to preview\n",
    "\n",
    "# Create DataFrame of all image paths with folder labels\n",
    "image_data = []\n",
    "for label in categories:\n",
    "    folder = DATA_DIR / label\n",
    "    for img_file in folder.iterdir():\n",
    "        if img_file.suffix.lower() in [\".jpg\", \".jpeg\", \".png\"]:\n",
    "            image_data.append({\n",
    "                \"filepath\": str(img_file.resolve()),\n",
    "                \"raw_label\": label\n",
    "            })\n",
    "\n",
    "df = pd.DataFrame(image_data)\n",
    "print(f\"Total images: {len(df)}\")\n",
    "df.head()\n"
   ]
  },
  {
   "cell_type": "markdown",
   "metadata": {},
   "source": [
    "Extract Color & Category from Folder Names"
   ]
  },
  {
   "cell_type": "code",
   "execution_count": 2,
   "metadata": {},
   "outputs": [
    {
     "name": "stdout",
     "output_type": "stream",
     "text": [
      "color\n",
      "black    3130\n",
      "blue     2863\n",
      "white    1812\n",
      "red      1718\n",
      "green    1047\n",
      "brown     815\n",
      "Name: count, dtype: int64\n",
      "category\n",
      "shoes     3418\n",
      "pants     2789\n",
      "dress     2570\n",
      "shirt     1686\n",
      "shorts     922\n",
      "Name: count, dtype: int64\n"
     ]
    },
    {
     "data": {
      "text/html": [
       "<div>\n",
       "<style scoped>\n",
       "    .dataframe tbody tr th:only-of-type {\n",
       "        vertical-align: middle;\n",
       "    }\n",
       "\n",
       "    .dataframe tbody tr th {\n",
       "        vertical-align: top;\n",
       "    }\n",
       "\n",
       "    .dataframe thead th {\n",
       "        text-align: right;\n",
       "    }\n",
       "</style>\n",
       "<table border=\"1\" class=\"dataframe\">\n",
       "  <thead>\n",
       "    <tr style=\"text-align: right;\">\n",
       "      <th></th>\n",
       "      <th>filepath</th>\n",
       "      <th>raw_label</th>\n",
       "      <th>color</th>\n",
       "      <th>category</th>\n",
       "    </tr>\n",
       "  </thead>\n",
       "  <tbody>\n",
       "    <tr>\n",
       "      <th>0</th>\n",
       "      <td>/Users/mac/Documents/TestProjects/catecut-test...</td>\n",
       "      <td>green_shirt</td>\n",
       "      <td>green</td>\n",
       "      <td>shirt</td>\n",
       "    </tr>\n",
       "    <tr>\n",
       "      <th>1</th>\n",
       "      <td>/Users/mac/Documents/TestProjects/catecut-test...</td>\n",
       "      <td>green_shirt</td>\n",
       "      <td>green</td>\n",
       "      <td>shirt</td>\n",
       "    </tr>\n",
       "    <tr>\n",
       "      <th>2</th>\n",
       "      <td>/Users/mac/Documents/TestProjects/catecut-test...</td>\n",
       "      <td>green_shirt</td>\n",
       "      <td>green</td>\n",
       "      <td>shirt</td>\n",
       "    </tr>\n",
       "    <tr>\n",
       "      <th>3</th>\n",
       "      <td>/Users/mac/Documents/TestProjects/catecut-test...</td>\n",
       "      <td>green_shirt</td>\n",
       "      <td>green</td>\n",
       "      <td>shirt</td>\n",
       "    </tr>\n",
       "    <tr>\n",
       "      <th>4</th>\n",
       "      <td>/Users/mac/Documents/TestProjects/catecut-test...</td>\n",
       "      <td>green_shirt</td>\n",
       "      <td>green</td>\n",
       "      <td>shirt</td>\n",
       "    </tr>\n",
       "  </tbody>\n",
       "</table>\n",
       "</div>"
      ],
      "text/plain": [
       "                                            filepath    raw_label  color  \\\n",
       "0  /Users/mac/Documents/TestProjects/catecut-test...  green_shirt  green   \n",
       "1  /Users/mac/Documents/TestProjects/catecut-test...  green_shirt  green   \n",
       "2  /Users/mac/Documents/TestProjects/catecut-test...  green_shirt  green   \n",
       "3  /Users/mac/Documents/TestProjects/catecut-test...  green_shirt  green   \n",
       "4  /Users/mac/Documents/TestProjects/catecut-test...  green_shirt  green   \n",
       "\n",
       "  category  \n",
       "0    shirt  \n",
       "1    shirt  \n",
       "2    shirt  \n",
       "3    shirt  \n",
       "4    shirt  "
      ]
     },
     "execution_count": 2,
     "metadata": {},
     "output_type": "execute_result"
    }
   ],
   "source": [
    "# Assuming all folder names are in format: color_category (e.g., red_shoes)\n",
    "df[[\"color\", \"category\"]] = df[\"raw_label\"].str.split(\"_\", expand=True)\n",
    "\n",
    "print(df[\"color\"].value_counts())\n",
    "print(df[\"category\"].value_counts())\n",
    "\n",
    "df.head()\n"
   ]
  },
  {
   "cell_type": "markdown",
   "metadata": {},
   "source": [
    "Stratified Split: Train/Val/Test"
   ]
  },
  {
   "cell_type": "code",
   "execution_count": 3,
   "metadata": {},
   "outputs": [
    {
     "name": "stdout",
     "output_type": "stream",
     "text": [
      "Train: 7969 | Val: 1708 | Test: 1708\n"
     ]
    }
   ],
   "source": [
    "from sklearn.model_selection import train_test_split\n",
    "\n",
    "# Use combined label to stratify by both color & category\n",
    "df[\"stratify_group\"] = df[\"color\"] + \"_\" + df[\"category\"]\n",
    "\n",
    "train_df, temp_df = train_test_split(df, test_size=0.3, stratify=df[\"stratify_group\"], random_state=42)\n",
    "val_df, test_df = train_test_split(temp_df, test_size=0.5, stratify=temp_df[\"stratify_group\"], random_state=42)\n",
    "\n",
    "print(f\"Train: {len(train_df)} | Val: {len(val_df)} | Test: {len(test_df)}\")\n",
    "\n",
    "# Drop stratify_group and save splits\n",
    "for split_df, name in zip([train_df, val_df, test_df], [\"train\", \"val\", \"test\"]):\n",
    "    split_df.drop(columns=[\"stratify_group\"], inplace=True)\n",
    "    split_df.to_csv(f\"../data/{name}_labels.csv\", index=False)\n"
   ]
  }
 ],
 "metadata": {
  "kernelspec": {
   "display_name": ".venv",
   "language": "python",
   "name": "python3"
  },
  "language_info": {
   "codemirror_mode": {
    "name": "ipython",
    "version": 3
   },
   "file_extension": ".py",
   "mimetype": "text/x-python",
   "name": "python",
   "nbconvert_exporter": "python",
   "pygments_lexer": "ipython3",
   "version": "3.11.12"
  }
 },
 "nbformat": 4,
 "nbformat_minor": 2
}
